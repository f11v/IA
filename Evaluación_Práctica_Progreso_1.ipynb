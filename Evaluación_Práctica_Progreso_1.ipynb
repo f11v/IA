{
  "nbformat": 4,
  "nbformat_minor": 0,
  "metadata": {
    "colab": {
      "provenance": []
    },
    "kernelspec": {
      "name": "python3",
      "display_name": "Python 3"
    },
    "language_info": {
      "name": "python"
    }
  },
  "cells": [
    {
      "cell_type": "markdown",
      "source": [
        "# Evaluación Práctica - Progreso 1"
      ],
      "metadata": {
        "id": "VhSjdNuhBTGV"
      }
    },
    {
      "cell_type": "markdown",
      "source": [
        "Instrucciones\n",
        "\n",
        "Desarrollar un estudio de regresión para el conjunto de datos denominado Abalone, disponible en http://archive.ics.uci.edu/dataset/1/abalone.  El conjunto de datos tiene como entrada 8 atributos de caracoles marinos (sexo, longitud, diámetro, altura, peso total, peso descascarado, peso de las vísceras y peso de concha) y una salida que es el número de anillos en su concha (sirve para predecir la edad del caracol sumándole 1.5).\n",
        "\n",
        "Usando scikit-learn determinar el mejor modelo que permita reducir el RMSE de la predicción del número de anillos entre SVR, KNN y procesos Gaussianos.  Ajustar los hiper-parámetros más importantes de cada modelo para obtener el mejor resultado mediante una evaluación por hold-out 70%-30%.\n",
        "\n",
        "Entregar la impresión del cuaderno de Python en formato PDF mostrando todo el código utilizado y resaltando el mejor modelo con su menor RMSE."
      ],
      "metadata": {
        "id": "FMUVurR7Be0i"
      }
    },
    {
      "cell_type": "markdown",
      "source": [
        "# Configuración Inicial: Importar Bibliotecas"
      ],
      "metadata": {
        "id": "S5-Mg_MKCEDZ"
      }
    },
    {
      "cell_type": "code",
      "source": [
        "import numpy as np\n",
        "import pandas as pd\n",
        "import matplotlib.pyplot as plt\n",
        "\n",
        "from sklearn import datasets\n",
        "from sklearn import metrics\n",
        "from sklearn.model_selection import train_test_split\n",
        "from sklearn.preprocessing import StandardScaler\n",
        "from sklearn.metrics import mean_squared_error, r2_score\n",
        "\n",
        "from sklearn.svm import SVR\n",
        "from sklearn.neighbors import KNeighborsRegressor\n",
        "from sklearn.gaussian_process import GaussianProcessRegressor"
      ],
      "metadata": {
        "id": "ZbaxdKXNCG9Q"
      },
      "execution_count": null,
      "outputs": []
    },
    {
      "cell_type": "markdown",
      "source": [
        "# Obtener y Explorar los Datos"
      ],
      "metadata": {
        "id": "snulOEojC3et"
      }
    },
    {
      "cell_type": "code",
      "source": [
        "!pip install -U ucimlrepo"
      ],
      "metadata": {
        "colab": {
          "base_uri": "https://localhost:8080/"
        },
        "id": "OKHgHTeEC98G",
        "outputId": "ad3ce3ba-9523-4fdf-f931-495095fa5894"
      },
      "execution_count": null,
      "outputs": [
        {
          "output_type": "stream",
          "name": "stdout",
          "text": [
            "Requirement already satisfied: ucimlrepo in /usr/local/lib/python3.10/dist-packages (0.0.7)\n",
            "Requirement already satisfied: pandas>=1.0.0 in /usr/local/lib/python3.10/dist-packages (from ucimlrepo) (2.2.2)\n",
            "Requirement already satisfied: certifi>=2020.12.5 in /usr/local/lib/python3.10/dist-packages (from ucimlrepo) (2024.8.30)\n",
            "Requirement already satisfied: numpy>=1.22.4 in /usr/local/lib/python3.10/dist-packages (from pandas>=1.0.0->ucimlrepo) (1.26.4)\n",
            "Requirement already satisfied: python-dateutil>=2.8.2 in /usr/local/lib/python3.10/dist-packages (from pandas>=1.0.0->ucimlrepo) (2.8.2)\n",
            "Requirement already satisfied: pytz>=2020.1 in /usr/local/lib/python3.10/dist-packages (from pandas>=1.0.0->ucimlrepo) (2024.2)\n",
            "Requirement already satisfied: tzdata>=2022.7 in /usr/local/lib/python3.10/dist-packages (from pandas>=1.0.0->ucimlrepo) (2024.2)\n",
            "Requirement already satisfied: six>=1.5 in /usr/local/lib/python3.10/dist-packages (from python-dateutil>=2.8.2->pandas>=1.0.0->ucimlrepo) (1.16.0)\n"
          ]
        }
      ]
    },
    {
      "cell_type": "code",
      "source": [
        "from ucimlrepo import fetch_ucirepo"
      ],
      "metadata": {
        "id": "SgWFtfXGDKPK"
      },
      "execution_count": null,
      "outputs": []
    },
    {
      "cell_type": "code",
      "source": [
        "abalone = fetch_ucirepo(id=1)\n",
        "\n",
        "X = abalone.data.features\n",
        "y = abalone.data.targets"
      ],
      "metadata": {
        "id": "GMlM1xurC4Pj"
      },
      "execution_count": null,
      "outputs": []
    },
    {
      "cell_type": "code",
      "source": [
        "# Metadata\n",
        "print(abalone.metadata)"
      ],
      "metadata": {
        "colab": {
          "base_uri": "https://localhost:8080/"
        },
        "id": "JBEQivBIDz4k",
        "outputId": "e2ec51be-7ba2-41fa-a001-4b31f74e3b27"
      },
      "execution_count": null,
      "outputs": [
        {
          "output_type": "stream",
          "name": "stdout",
          "text": [
            "{'uci_id': 1, 'name': 'Abalone', 'repository_url': 'https://archive.ics.uci.edu/dataset/1/abalone', 'data_url': 'https://archive.ics.uci.edu/static/public/1/data.csv', 'abstract': 'Predict the age of abalone from physical measurements', 'area': 'Biology', 'tasks': ['Classification', 'Regression'], 'characteristics': ['Tabular'], 'num_instances': 4177, 'num_features': 8, 'feature_types': ['Categorical', 'Integer', 'Real'], 'demographics': [], 'target_col': ['Rings'], 'index_col': None, 'has_missing_values': 'no', 'missing_values_symbol': None, 'year_of_dataset_creation': 1994, 'last_updated': 'Mon Aug 28 2023', 'dataset_doi': '10.24432/C55C7W', 'creators': ['Warwick Nash', 'Tracy Sellers', 'Simon Talbot', 'Andrew Cawthorn', 'Wes Ford'], 'intro_paper': None, 'additional_info': {'summary': 'Predicting the age of abalone from physical measurements.  The age of abalone is determined by cutting the shell through the cone, staining it, and counting the number of rings through a microscope -- a boring and time-consuming task.  Other measurements, which are easier to obtain, are used to predict the age.  Further information, such as weather patterns and location (hence food availability) may be required to solve the problem.\\r\\n\\r\\nFrom the original data examples with missing values were removed (the majority having the predicted value missing), and the ranges of the continuous values have been scaled for use with an ANN (by dividing by 200).', 'purpose': None, 'funded_by': None, 'instances_represent': None, 'recommended_data_splits': None, 'sensitive_data': None, 'preprocessing_description': None, 'variable_info': 'Given is the attribute name, attribute type, the measurement unit and a brief description.  The number of rings is the value to predict: either as a continuous value or as a classification problem.\\r\\n\\r\\nName / Data Type / Measurement Unit / Description\\r\\n-----------------------------\\r\\nSex / nominal / -- / M, F, and I (infant)\\r\\nLength / continuous / mm / Longest shell measurement\\r\\nDiameter\\t/ continuous / mm / perpendicular to length\\r\\nHeight / continuous / mm / with meat in shell\\r\\nWhole weight / continuous / grams / whole abalone\\r\\nShucked weight / continuous\\t / grams / weight of meat\\r\\nViscera weight / continuous / grams / gut weight (after bleeding)\\r\\nShell weight / continuous / grams / after being dried\\r\\nRings / integer / -- / +1.5 gives the age in years\\r\\n\\r\\nThe readme file contains attribute statistics.', 'citation': None}}\n"
          ]
        }
      ]
    },
    {
      "cell_type": "code",
      "source": [
        "print(abalone.variables)"
      ],
      "metadata": {
        "colab": {
          "base_uri": "https://localhost:8080/"
        },
        "id": "Wy3j0NcTDZ1w",
        "outputId": "649b00f2-6631-494a-c32e-f66a48b6bd8f"
      },
      "execution_count": null,
      "outputs": [
        {
          "output_type": "stream",
          "name": "stdout",
          "text": [
            "             name     role         type demographic  \\\n",
            "0             Sex  Feature  Categorical        None   \n",
            "1          Length  Feature   Continuous        None   \n",
            "2        Diameter  Feature   Continuous        None   \n",
            "3          Height  Feature   Continuous        None   \n",
            "4    Whole_weight  Feature   Continuous        None   \n",
            "5  Shucked_weight  Feature   Continuous        None   \n",
            "6  Viscera_weight  Feature   Continuous        None   \n",
            "7    Shell_weight  Feature   Continuous        None   \n",
            "8           Rings   Target      Integer        None   \n",
            "\n",
            "                   description  units missing_values  \n",
            "0         M, F, and I (infant)   None             no  \n",
            "1    Longest shell measurement     mm             no  \n",
            "2      perpendicular to length     mm             no  \n",
            "3           with meat in shell     mm             no  \n",
            "4                whole abalone  grams             no  \n",
            "5               weight of meat  grams             no  \n",
            "6  gut weight (after bleeding)  grams             no  \n",
            "7            after being dried  grams             no  \n",
            "8  +1.5 gives the age in years   None             no  \n"
          ]
        }
      ]
    },
    {
      "cell_type": "code",
      "source": [
        "print(\"Primeras 5 filas de las características (X):\")\n",
        "print(X.head())"
      ],
      "metadata": {
        "colab": {
          "base_uri": "https://localhost:8080/"
        },
        "id": "Wex50rhXEJHR",
        "outputId": "93150d99-61b5-4522-e2ee-699dcee6bb91"
      },
      "execution_count": null,
      "outputs": [
        {
          "output_type": "stream",
          "name": "stdout",
          "text": [
            "Primeras 5 filas de las características (X):\n",
            "  Sex  Length  Diameter  Height  Whole_weight  Shucked_weight  Viscera_weight  \\\n",
            "0   M   0.455     0.365   0.095        0.5140          0.2245          0.1010   \n",
            "1   M   0.350     0.265   0.090        0.2255          0.0995          0.0485   \n",
            "2   F   0.530     0.420   0.135        0.6770          0.2565          0.1415   \n",
            "3   M   0.440     0.365   0.125        0.5160          0.2155          0.1140   \n",
            "4   I   0.330     0.255   0.080        0.2050          0.0895          0.0395   \n",
            "\n",
            "   Shell_weight  \n",
            "0         0.150  \n",
            "1         0.070  \n",
            "2         0.210  \n",
            "3         0.155  \n",
            "4         0.055  \n"
          ]
        }
      ]
    },
    {
      "cell_type": "code",
      "source": [
        "print(\"\\nPrimeras 5 filas del target (y):\")\n",
        "print(y.head())"
      ],
      "metadata": {
        "colab": {
          "base_uri": "https://localhost:8080/"
        },
        "id": "Tpe2KtoRDa89",
        "outputId": "6d224223-75ed-47b6-e463-9093a65950ae"
      },
      "execution_count": null,
      "outputs": [
        {
          "output_type": "stream",
          "name": "stdout",
          "text": [
            "\n",
            "Primeras 5 filas del target (y):\n",
            "   Rings\n",
            "0     15\n",
            "1      7\n",
            "2      9\n",
            "3     10\n",
            "4      7\n"
          ]
        }
      ]
    },
    {
      "cell_type": "markdown",
      "source": [
        "# Determinar X e y"
      ],
      "metadata": {
        "id": "MxPu4iq_FFTK"
      }
    },
    {
      "cell_type": "code",
      "source": [
        "X = abalone.data.features\n",
        "y = abalone.data.targets"
      ],
      "metadata": {
        "id": "8eaagW6yDb1b"
      },
      "execution_count": null,
      "outputs": []
    },
    {
      "cell_type": "code",
      "source": [
        "print(\"Variables independientes (X):\")\n",
        "print(X.head())"
      ],
      "metadata": {
        "colab": {
          "base_uri": "https://localhost:8080/"
        },
        "id": "TDIlEDyAFKta",
        "outputId": "a28f2766-d81d-4d52-cb7f-40a872cb3683"
      },
      "execution_count": null,
      "outputs": [
        {
          "output_type": "stream",
          "name": "stdout",
          "text": [
            "Variables independientes (X):\n",
            "  Sex  Length  Diameter  Height  Whole_weight  Shucked_weight  Viscera_weight  \\\n",
            "0   M   0.455     0.365   0.095        0.5140          0.2245          0.1010   \n",
            "1   M   0.350     0.265   0.090        0.2255          0.0995          0.0485   \n",
            "2   F   0.530     0.420   0.135        0.6770          0.2565          0.1415   \n",
            "3   M   0.440     0.365   0.125        0.5160          0.2155          0.1140   \n",
            "4   I   0.330     0.255   0.080        0.2050          0.0895          0.0395   \n",
            "\n",
            "   Shell_weight  \n",
            "0         0.150  \n",
            "1         0.070  \n",
            "2         0.210  \n",
            "3         0.155  \n",
            "4         0.055  \n"
          ]
        }
      ]
    },
    {
      "cell_type": "code",
      "source": [
        "print(\"\\nVariable objetivo (y):\")\n",
        "print(y.head())"
      ],
      "metadata": {
        "colab": {
          "base_uri": "https://localhost:8080/"
        },
        "id": "cqXK0MAaFRQM",
        "outputId": "1f94c342-ef4e-422e-9560-23da748ebccd"
      },
      "execution_count": null,
      "outputs": [
        {
          "output_type": "stream",
          "name": "stdout",
          "text": [
            "\n",
            "Variable objetivo (y):\n",
            "   Rings\n",
            "0     15\n",
            "1      7\n",
            "2      9\n",
            "3     10\n",
            "4      7\n"
          ]
        }
      ]
    },
    {
      "cell_type": "markdown",
      "source": [
        "# Limpieza de Datos"
      ],
      "metadata": {
        "id": "gyJlYmGPFgVN"
      }
    },
    {
      "cell_type": "code",
      "source": [
        "print(\"Valores faltantes por columna:\")\n",
        "print(X.isnull().sum())"
      ],
      "metadata": {
        "colab": {
          "base_uri": "https://localhost:8080/"
        },
        "id": "xFzr5ubuFlgo",
        "outputId": "4f5a914d-fd43-47c8-d34d-7978918b3166"
      },
      "execution_count": null,
      "outputs": [
        {
          "output_type": "stream",
          "name": "stdout",
          "text": [
            "Valores faltantes por columna:\n",
            "Sex               0\n",
            "Length            0\n",
            "Diameter          0\n",
            "Height            0\n",
            "Whole_weight      0\n",
            "Shucked_weight    0\n",
            "Viscera_weight    0\n",
            "Shell_weight      0\n",
            "dtype: int64\n"
          ]
        }
      ]
    },
    {
      "cell_type": "code",
      "source": [
        "print(\"\\nValores faltantes en el target (y):\")\n",
        "print(y.isnull().sum())"
      ],
      "metadata": {
        "colab": {
          "base_uri": "https://localhost:8080/"
        },
        "id": "XdrlwjGuFq9l",
        "outputId": "17b3864b-7caa-4ed4-cb7b-b198f192215c"
      },
      "execution_count": null,
      "outputs": [
        {
          "output_type": "stream",
          "name": "stdout",
          "text": [
            "\n",
            "Valores faltantes en el target (y):\n",
            "Rings    0\n",
            "dtype: int64\n"
          ]
        }
      ]
    },
    {
      "cell_type": "code",
      "source": [
        "print(\"\\nNúmero de filas duplicadas:\", pd.concat([X, y], axis=1).duplicated().sum())"
      ],
      "metadata": {
        "colab": {
          "base_uri": "https://localhost:8080/"
        },
        "id": "gaqXt_GnFvcr",
        "outputId": "d3fca416-168f-4afd-b85b-4e263157d161"
      },
      "execution_count": null,
      "outputs": [
        {
          "output_type": "stream",
          "name": "stdout",
          "text": [
            "\n",
            "Número de filas duplicadas: 0\n"
          ]
        }
      ]
    },
    {
      "cell_type": "markdown",
      "source": [
        "# Cambiar Columna Sexo a Valores Númericos"
      ],
      "metadata": {
        "id": "5FSgkcl9GKzA"
      }
    },
    {
      "cell_type": "code",
      "source": [
        "print(\"Valores originales de 'Sex':\")\n",
        "print(X['Sex'].head())"
      ],
      "metadata": {
        "colab": {
          "base_uri": "https://localhost:8080/"
        },
        "id": "bkTfQKisGJUk",
        "outputId": "3ab0f713-571b-4d22-fb78-29d535748782"
      },
      "execution_count": null,
      "outputs": [
        {
          "output_type": "stream",
          "name": "stdout",
          "text": [
            "Valores originales de 'Sex':\n",
            "0    M\n",
            "1    M\n",
            "2    F\n",
            "3    M\n",
            "4    I\n",
            "Name: Sex, dtype: object\n"
          ]
        }
      ]
    },
    {
      "cell_type": "code",
      "source": [
        "sex_mapping = {'M': 0, 'F': 1, 'I': 2}\n",
        "X['Sex'] = X['Sex'].map(sex_mapping)"
      ],
      "metadata": {
        "colab": {
          "base_uri": "https://localhost:8080/"
        },
        "id": "Pa-iQ6kHGbOe",
        "outputId": "9adfec91-e2bd-4cd5-c3e4-c66892109f90"
      },
      "execution_count": null,
      "outputs": [
        {
          "output_type": "stream",
          "name": "stderr",
          "text": [
            "<ipython-input-107-af99bfcb0be1>:2: SettingWithCopyWarning: \n",
            "A value is trying to be set on a copy of a slice from a DataFrame.\n",
            "Try using .loc[row_indexer,col_indexer] = value instead\n",
            "\n",
            "See the caveats in the documentation: https://pandas.pydata.org/pandas-docs/stable/user_guide/indexing.html#returning-a-view-versus-a-copy\n",
            "  X['Sex'] = X['Sex'].map(sex_mapping)\n"
          ]
        }
      ]
    },
    {
      "cell_type": "code",
      "source": [
        "print(\"\\nValores numéricos de 'Sex' después de Label Encoding:\")\n",
        "print(X['Sex'].head())"
      ],
      "metadata": {
        "colab": {
          "base_uri": "https://localhost:8080/"
        },
        "id": "f9p5KlaFGeXR",
        "outputId": "0ce699a7-9872-46d8-a130-28f4041e01b7"
      },
      "execution_count": null,
      "outputs": [
        {
          "output_type": "stream",
          "name": "stdout",
          "text": [
            "\n",
            "Valores numéricos de 'Sex' después de Label Encoding:\n",
            "0    0\n",
            "1    0\n",
            "2    1\n",
            "3    0\n",
            "4    2\n",
            "Name: Sex, dtype: int64\n"
          ]
        }
      ]
    },
    {
      "cell_type": "code",
      "source": [
        "print(\"Variables independientes (X):\")\n",
        "print(X.head())"
      ],
      "metadata": {
        "colab": {
          "base_uri": "https://localhost:8080/"
        },
        "id": "3JQbXuToG-y_",
        "outputId": "ffe55ed8-dced-42b4-977c-a0f73aaabb93"
      },
      "execution_count": null,
      "outputs": [
        {
          "output_type": "stream",
          "name": "stdout",
          "text": [
            "Variables independientes (X):\n",
            "   Sex  Length  Diameter  Height  Whole_weight  Shucked_weight  \\\n",
            "0    0   0.455     0.365   0.095        0.5140          0.2245   \n",
            "1    0   0.350     0.265   0.090        0.2255          0.0995   \n",
            "2    1   0.530     0.420   0.135        0.6770          0.2565   \n",
            "3    0   0.440     0.365   0.125        0.5160          0.2155   \n",
            "4    2   0.330     0.255   0.080        0.2050          0.0895   \n",
            "\n",
            "   Viscera_weight  Shell_weight  \n",
            "0          0.1010         0.150  \n",
            "1          0.0485         0.070  \n",
            "2          0.1415         0.210  \n",
            "3          0.1140         0.155  \n",
            "4          0.0395         0.055  \n"
          ]
        }
      ]
    },
    {
      "cell_type": "code",
      "source": [
        "print(\"\\nVariable objetivo (y):\")\n",
        "print(y.head())"
      ],
      "metadata": {
        "colab": {
          "base_uri": "https://localhost:8080/"
        },
        "id": "QDEGEXW-HFbI",
        "outputId": "018f76b9-4e81-4ee1-9b62-935eb0e1c0fa"
      },
      "execution_count": null,
      "outputs": [
        {
          "output_type": "stream",
          "name": "stdout",
          "text": [
            "\n",
            "Variable objetivo (y):\n",
            "   Rings\n",
            "0     15\n",
            "1      7\n",
            "2      9\n",
            "3     10\n",
            "4      7\n"
          ]
        }
      ]
    },
    {
      "cell_type": "markdown",
      "source": [
        "# Normalizar X"
      ],
      "metadata": {
        "id": "WJeaknNrHLAs"
      }
    },
    {
      "cell_type": "code",
      "source": [
        "scaler = StandardScaler()\n",
        "\n",
        "X_scaled = scaler.fit_transform(X)\n",
        "\n",
        "X_scaled = pd.DataFrame(X_scaled, columns=X.columns)\n",
        "\n",
        "print(\"Primeras 5 filas de X normalizado:\")\n",
        "print(X_scaled.head())"
      ],
      "metadata": {
        "colab": {
          "base_uri": "https://localhost:8080/"
        },
        "id": "CT0UTryWHMEJ",
        "outputId": "dc937c01-d2e0-49ed-b350-e8e13aca40ea"
      },
      "execution_count": null,
      "outputs": [
        {
          "output_type": "stream",
          "name": "stdout",
          "text": [
            "Primeras 5 filas de X normalizado:\n",
            "        Sex    Length  Diameter    Height  Whole_weight  Shucked_weight  \\\n",
            "0 -1.154346 -0.574558 -0.432149 -1.064424     -0.641898       -0.607685   \n",
            "1 -1.154346 -1.448986 -1.439929 -1.183978     -1.230277       -1.170910   \n",
            "2  0.053798  0.050033  0.122130 -0.107991     -0.309469       -0.463500   \n",
            "3 -1.154346 -0.699476 -0.432149 -0.347099     -0.637819       -0.648238   \n",
            "4  1.261943 -1.615544 -1.540707 -1.423087     -1.272086       -1.215968   \n",
            "\n",
            "   Viscera_weight  Shell_weight  \n",
            "0       -0.726212     -0.638217  \n",
            "1       -1.205221     -1.212987  \n",
            "2       -0.356690     -0.207139  \n",
            "3       -0.607600     -0.602294  \n",
            "4       -1.287337     -1.320757  \n"
          ]
        }
      ]
    },
    {
      "cell_type": "markdown",
      "source": [
        "# Separar en Conjuntos de Entrenamiento y Prueba"
      ],
      "metadata": {
        "id": "rRJ4dfatHZfL"
      }
    },
    {
      "cell_type": "code",
      "source": [
        "X_train, X_test, y_train, y_test = train_test_split(\n",
        "    X_scaled, y, test_size=0.3, random_state=42\n",
        ")\n",
        "\n",
        "print(f\"Tamaño del conjunto de entrenamiento: {X_train.shape}\")\n",
        "print(f\"Tamaño del conjunto de prueba: {X_test.shape}\")\n",
        "print(f\"min= {y_train.min()}, max= {y_train.max()}\")"
      ],
      "metadata": {
        "colab": {
          "base_uri": "https://localhost:8080/"
        },
        "id": "nQ2XiNmrHbh6",
        "outputId": "12deeb53-0934-4d8d-ebc7-4336c14b38c1"
      },
      "execution_count": null,
      "outputs": [
        {
          "output_type": "stream",
          "name": "stdout",
          "text": [
            "Tamaño del conjunto de entrenamiento: (2923, 8)\n",
            "Tamaño del conjunto de prueba: (1254, 8)\n",
            "min= Rings    1\n",
            "dtype: int64, max= Rings    29\n",
            "dtype: int64\n"
          ]
        }
      ]
    },
    {
      "cell_type": "markdown",
      "source": [
        "# Entrenar Modelos de Regresión"
      ],
      "metadata": {
        "id": "WrNYfrIKHg44"
      }
    },
    {
      "cell_type": "code",
      "source": [
        "from sklearn import metrics"
      ],
      "metadata": {
        "id": "Hv69L4nfMT_N"
      },
      "execution_count": null,
      "outputs": []
    },
    {
      "cell_type": "markdown",
      "source": [
        "## Soporte Vectorial de Regresión (SVR)"
      ],
      "metadata": {
        "id": "GkWFpmTcHt40"
      }
    },
    {
      "cell_type": "code",
      "source": [
        "mdl = SVR(\n",
        "    gamma=0.1,\n",
        "    tol=1e-10,\n",
        "    C=7,\n",
        "    epsilon=1,\n",
        ")\n",
        "mdl.fit(X_train, y_train)\n",
        "Y_hat = mdl.predict(X_test)\n",
        "\n",
        "svr_mse = metrics.mean_squared_error(y_test, Y_hat)\n",
        "print(\"SVR MSE =\", svr_mse, \", RMSE = \", np.sqrt(svr_mse))"
      ],
      "metadata": {
        "colab": {
          "base_uri": "https://localhost:8080/"
        },
        "id": "NCF9RmaDHxH0",
        "outputId": "0c392f0f-209e-4773-d98c-154fa204f957"
      },
      "execution_count": null,
      "outputs": [
        {
          "output_type": "stream",
          "name": "stderr",
          "text": [
            "/usr/local/lib/python3.10/dist-packages/sklearn/utils/validation.py:1339: DataConversionWarning: A column-vector y was passed when a 1d array was expected. Please change the shape of y to (n_samples, ), for example using ravel().\n",
            "  y = column_or_1d(y, warn=True)\n"
          ]
        },
        {
          "output_type": "stream",
          "name": "stdout",
          "text": [
            "SVR MSE = 4.502144322268116 , RMSE =  2.121825704969217\n"
          ]
        }
      ]
    },
    {
      "cell_type": "markdown",
      "source": [
        "## K-Nearest Neighbors de Regresión"
      ],
      "metadata": {
        "id": "KbtJNyW2IeEI"
      }
    },
    {
      "cell_type": "code",
      "source": [
        "mdl = KNeighborsRegressor(\n",
        "    n_neighbors=18,\n",
        "    weights = 'uniform',\n",
        "    algorithm = 'auto',\n",
        ")\n",
        "mdl.fit(X_train, y_train)\n",
        "Y_hat = mdl.predict(X_test)\n",
        "\n",
        "knr_mse = metrics.mean_squared_error(y_test, Y_hat)\n",
        "print(\"KNN MSE =\", knr_mse, \", RMSE = \", np.sqrt(knr_mse))"
      ],
      "metadata": {
        "colab": {
          "base_uri": "https://localhost:8080/"
        },
        "id": "uoyuqgSqIdJK",
        "outputId": "e01c4a55-926a-4c25-da67-fc4679150920"
      },
      "execution_count": null,
      "outputs": [
        {
          "output_type": "stream",
          "name": "stdout",
          "text": [
            "KNN MSE = 4.8315784551164676 , RMSE =  2.19808517922224\n"
          ]
        }
      ]
    },
    {
      "cell_type": "markdown",
      "source": [
        "Gaussian Process Regression"
      ],
      "metadata": {
        "id": "dr5nwessJGIa"
      }
    },
    {
      "cell_type": "code",
      "source": [
        "mdl = GaussianProcessRegressor(\n",
        "    alpha= 1e-1,\n",
        "    n_restarts_optimizer= 1,\n",
        "    optimizer= 'fmin_l_bfgs_b'\n",
        ")\n",
        "mdl.fit(X_train, y_train)\n",
        "Y_hat = mdl.predict(X_test)\n",
        "\n",
        "gpr_mse = metrics.mean_squared_error(y_test, Y_hat)\n",
        "print(\"MSE =\", gpr_mse, \", RMSE = \", np.sqrt(gpr_mse))"
      ],
      "metadata": {
        "colab": {
          "base_uri": "https://localhost:8080/"
        },
        "id": "E_FXjj2LJFTP",
        "outputId": "c6f1ef75-ca56-483a-98e6-24373f0ee507"
      },
      "execution_count": null,
      "outputs": [
        {
          "output_type": "stream",
          "name": "stdout",
          "text": [
            "MSE = 5.188118124548347 , RMSE =  2.2777440867113117\n"
          ]
        }
      ]
    },
    {
      "cell_type": "markdown",
      "source": [
        "## COMPARATIVA"
      ],
      "metadata": {
        "id": "fN0S8ogDQHaB"
      }
    },
    {
      "cell_type": "code",
      "source": [
        "print(\"SVR MSE =\", svr_mse, \", RMSE = \", np.sqrt(svr_mse))\n",
        "print(\"KNN MSE =\", knr_mse, \", RMSE = \", np.sqrt(knr_mse))\n",
        "print(\"GPR MSE =\", gpr_mse, \", RMSE = \", np.sqrt(gpr_mse))"
      ],
      "metadata": {
        "colab": {
          "base_uri": "https://localhost:8080/"
        },
        "id": "88vFjVFrQJfZ",
        "outputId": "8d358bb1-627b-4980-cf25-785e1d9d53cc"
      },
      "execution_count": null,
      "outputs": [
        {
          "output_type": "stream",
          "name": "stdout",
          "text": [
            "SVR MSE = 4.502144322268116 , RMSE =  2.121825704969217\n",
            "KNN MSE = 4.8315784551164676 , RMSE =  2.19808517922224\n",
            "GPR MSE = 5.188118124548347 , RMSE =  2.2777440867113117\n"
          ]
        }
      ]
    },
    {
      "cell_type": "markdown",
      "source": [
        "# CONCLUSIÓN"
      ],
      "metadata": {
        "id": "Yd01scD6T_8f"
      }
    },
    {
      "cell_type": "markdown",
      "source": [
        "Al utilizar los tres modelos de regresión, se concluyó que el SVR es el que da los mejores resultados al modificar ciertos hiperparametros.\n",
        "1. SVR MSE = 4.502144322268116 , RMSE =  2.121825704969217\n",
        "2. KNN MSE = 4.8315784551164676 , RMSE =  2.19808517922224\n",
        "3. GPR MSE = 5.188118124548347 , RMSE =  2.2777440867113117"
      ],
      "metadata": {
        "id": "2orvjEU5Uk0R"
      }
    }
  ]
}